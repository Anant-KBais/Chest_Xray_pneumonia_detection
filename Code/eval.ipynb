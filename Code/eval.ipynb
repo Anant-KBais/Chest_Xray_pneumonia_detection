{
 "cells": [
  {
   "cell_type": "code",
   "execution_count": 6,
   "metadata": {},
   "outputs": [],
   "source": [
    "# Importing all the libraries \n",
    "import seaborn as sns\n",
    "# import matplot\n",
    "import matplotlib.pyplot as plt\n",
    "import pandas as pd\n",
    "from keras.preprocessing.image import ImageDataGenerator\n",
    "from tensorflow.keras.models import Sequential\n",
    "from tensorflow.keras.layers import Activation, Dropout, Dense, Flatten, Conv2D, MaxPool2D\n",
    "from tensorflow.keras import backend as K\n",
    "import tensorflow as tf\n",
    "import numpy as np\n",
    "from configs import paths, dataset_gen\n",
    "from sklearn.metrics import classification_report"
   ]
  },
  {
   "attachments": {},
   "cell_type": "markdown",
   "metadata": {},
   "source": [
    "# Data Analysis"
   ]
  },
  {
   "cell_type": "code",
   "execution_count": 2,
   "metadata": {},
   "outputs": [
    {
     "name": "stdout",
     "output_type": "stream",
     "text": [
      "Found 5216 images belonging to 2 classes.\n",
      "Found 16 images belonging to 2 classes.\n",
      "Found 624 images belonging to 2 classes.\n"
     ]
    }
   ],
   "source": [
    "img_width, img_height = 150,150\n",
    "nb_train_sample =1000\n",
    "nb_validation_samples =100\n",
    "\n",
    "epochs = 50\n",
    "batch_size = 20\n",
    "\n",
    "\n",
    "train_datagen = ImageDataGenerator(rescale=1./255, shear_range=0.2, zoom_range=0.2, horizontal_flip=True)\n",
    "\n",
    "validation_datagen = ImageDataGenerator(rescale=1./255, shear_range=0.2, zoom_range=0.2, horizontal_flip=True)\n",
    "\n",
    "test_datagen = ImageDataGenerator(rescale=1./255)\n",
    "\n",
    "\n",
    "\n",
    "train_generator= train_datagen.flow_from_directory(paths.train_data_dir, target_size =(150,150),batch_size=batch_size, class_mode=\"binary\" )\n",
    "\n",
    "validation_generator = validation_datagen.flow_from_directory(paths.validation_data_dir, target_size = (150,150),batch_size=batch_size, class_mode=\"binary\")\n",
    " \n",
    "test_generator = test_datagen.flow_from_directory(paths.test_data_dir, target_size = (150,150),batch_size=batch_size, class_mode=\"binary\")"
   ]
  },
  {
   "cell_type": "code",
   "execution_count": 3,
   "metadata": {},
   "outputs": [
    {
     "name": "stdout",
     "output_type": "stream",
     "text": [
      "label\n",
      "1    3875\n",
      "0    1341\n",
      "Name: count, dtype: int64\n",
      "proportion of pneumonic cases: 0.7429064417177914\n",
      "proportion of normal cases: 0.2570935582822086\n"
     ]
    },
    {
     "data": {
      "image/png": "[encoded data removed]",
      "text/plain": [
       "<Figure size 504x360 with 1 Axes>"
      ]
     },
     "metadata": {
      "needs_background": "light"
     },
     "output_type": "display_data"
    }
   ],
   "source": [
    "# Get the list of all the images\n",
    "normal = paths.normal_cases_train.glob('*.jpeg')\n",
    "pneumonia = paths.pneumonia_cases_train.glob('*.jpeg')\n",
    "\n",
    "# An empty list. We will insert the data into this list in (img_path, label) format\n",
    "train_df = []\n",
    "\n",
    "# Go through all the normal cases. The label for these cases will be 0\n",
    "for img in normal:\n",
    "    train_df.append((img,0))\n",
    "\n",
    "# Go through all the pneumonia cases. The label for these cases will be 1\n",
    "for img in pneumonia:\n",
    "    train_df.append((img,1))\n",
    "\n",
    "# Get a pandas dataframe from the data we have in our list \n",
    "train_df = pd.DataFrame(train_df, columns=['image', 'label'])\n",
    "\n",
    "# Shuffle the data \n",
    "train_df = train_df.sample(frac=1.).reset_index(drop=True)\n",
    "\n",
    "# finding the proportions of classes\n",
    "plt.figure(figsize=(7,5))\n",
    "count = sns.countplot(x=train_df[\"label\"], palette=[\"#6B614B\",\"#B0B7B5\"],width=0.5)\n",
    "count.set_title(\"Count of Negative (1) and Positive Cases (1)\", color=\"#6B614B\")\n",
    "proportion = train_df['label'].value_counts()\n",
    "print(proportion)\n",
    "print('proportion of pneumonic cases:',proportion[1]/(proportion[1]+proportion[0]))\n",
    "print('proportion of normal cases:',proportion[0]/(proportion[1]+proportion[0]))\n"
   ]
  },
  {
   "cell_type": "code",
   "execution_count": 4,
   "metadata": {},
   "outputs": [
    {
     "data": {
      "text/plain": [
       "0.7429064417177914"
      ]
     },
     "execution_count": 4,
     "metadata": {},
     "output_type": "execute_result"
    }
   ],
   "source": [
    "proportion[1]/(proportion[1]+proportion[0])"
   ]
  },
  {
   "attachments": {},
   "cell_type": "markdown",
   "metadata": {},
   "source": [
    "## Primary Model Analysis"
   ]
  },
  {
   "cell_type": "code",
   "execution_count": 5,
   "metadata": {},
   "outputs": [],
   "source": [
    "# Load the model\n",
    "model = tf.keras.models.load_model(paths.model)"
   ]
  },
  {
   "cell_type": "code",
   "execution_count": 8,
   "metadata": {},
   "outputs": [
    {
     "name": "stdout",
     "output_type": "stream",
     "text": [
      "Found 624 images belonging to 2 classes.\n",
      "20/20 [==============================] - 2s 99ms/step\n"
     ]
    }
   ],
   "source": [
    "x, y = dataset_gen(paths, type='test', return_xy=True)\n",
    "y_pred_prob = model.predict(x)\n",
    "y_pred = [0 if x<0.5 else 1 for x in y_pred_prob]"
   ]
  },
  {
   "cell_type": "code",
   "execution_count": 9,
   "metadata": {},
   "outputs": [
    {
     "name": "stdout",
     "output_type": "stream",
     "text": [
      "              precision    recall  f1-score   support\n",
      "\n",
      "         0.0       0.93      0.85      0.89       234\n",
      "         1.0       0.91      0.96      0.94       390\n",
      "\n",
      "    accuracy                           0.92       624\n",
      "   macro avg       0.92      0.90      0.91       624\n",
      "weighted avg       0.92      0.92      0.92       624\n",
      "\n"
     ]
    }
   ],
   "source": [
    "print(classification_report(y,y_pred ))"
   ]
  }
 ],
 "metadata": {
  "kernelspec": {
   "display_name": "Python 3",
   "language": "python",
   "name": "python3"
  },
  "language_info": {
   "codemirror_mode": {
    "name": "ipython",
    "version": 3
   },
   "file_extension": ".py",
   "mimetype": "text/x-python",
   "name": "python",
   "nbconvert_exporter": "python",
   "pygments_lexer": "ipython3",
   "version": "3.9.0"
  },
  "orig_nbformat": 4
 },
 "nbformat": 4,
 "nbformat_minor": 2
}
